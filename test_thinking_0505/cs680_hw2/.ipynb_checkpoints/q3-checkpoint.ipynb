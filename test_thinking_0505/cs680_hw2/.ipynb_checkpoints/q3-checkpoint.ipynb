{
 "cells": [
  {
   "metadata": {},
   "cell_type": "raw",
   "source": "",
   "id": "15e42d7729b5287c"
  }
 ],
 "metadata": {},
 "nbformat": 4,
 "nbformat_minor": 5
}
